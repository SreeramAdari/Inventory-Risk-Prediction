{
  "nbformat": 4,
  "nbformat_minor": 0,
  "metadata": {
    "colab": {
      "provenance": []
    },
    "kernelspec": {
      "name": "python3",
      "display_name": "Python 3"
    },
    "language_info": {
      "name": "python"
    }
  },
  "cells": [
    {
      "cell_type": "code",
      "source": [
        "# Install ydata-profiling (only needs to be run once)\n",
        "!pip install -q ydata-profiling\n",
        "\n",
        "import pandas as pd\n",
        "from ydata_profiling import ProfileReport\n",
        "\n",
        "# Load the dataset (update the path as needed)\n",
        "df = pd.read_excel(\"/content/stock_risk_prediction_dataset (1).xlsx\")\n",
        "\n",
        "# Drop any missing values (optional, based on earlier steps)\n",
        "df.dropna(inplace=True)\n",
        "\n",
        "# Generate profiling report\n",
        "profile = ProfileReport(df, title=\"Inventory Risk - Original Dataset EDA\", explorative=True)\n",
        "\n",
        "# Save to HTML\n",
        "profile.to_file(\"original_data_eda_report.html\")"
      ],
      "metadata": {
        "id": "Wi-3csOBkNGi"
      },
      "execution_count": null,
      "outputs": []
    },
    {
      "cell_type": "code",
      "execution_count": null,
      "metadata": {
        "id": "fCwWVNDsOYgM"
      },
      "outputs": [],
      "source": [
        "# 1. Import Libraries\n",
        "import pandas as pd\n",
        "import numpy as np\n",
        "from sklearn.model_selection import train_test_split, cross_val_score\n",
        "from sklearn.preprocessing import StandardScaler\n",
        "from sklearn.metrics import accuracy_score, roc_auc_score, classification_report, roc_curve\n",
        "from sklearn.pipeline import Pipeline\n",
        "from imblearn.over_sampling import SMOTE\n",
        "from imblearn.pipeline import Pipeline as ImbPipeline\n",
        "\n",
        "# Models\n",
        "from sklearn.linear_model import LogisticRegression\n",
        "from sklearn.tree import DecisionTreeClassifier\n",
        "from sklearn.ensemble import RandomForestClassifier, GradientBoostingClassifier\n",
        "from sklearn.svm import SVC\n",
        "from xgboost import XGBClassifier\n",
        "from sklearn.naive_bayes import GaussianNB\n",
        "from sklearn.neighbors import KNeighborsClassifier\n",
        "\n",
        "import matplotlib.pyplot as plt\n",
        "import seaborn as sns\n",
        "import warnings\n",
        "warnings.filterwarnings('ignore')\n"
      ]
    },
    {
      "cell_type": "code",
      "source": [
        "# 2. Load and Inspect Data\n",
        "df = pd.read_excel(\"stock_risk_prediction_dataset (1).xlsx\")  # Change file name\n",
        "\n",
        "print(df.head())\n",
        "print(df.info())\n",
        "print(df['stock_status'].value_counts())  # Replace with your actual target column\n"
      ],
      "metadata": {
        "colab": {
          "base_uri": "https://localhost:8080/"
        },
        "id": "HVE9rCwsQf0E",
        "outputId": "b33a5faa-188e-457c-dfc4-a84076d0ad74"
      },
      "execution_count": null,
      "outputs": [
        {
          "output_type": "stream",
          "name": "stdout",
          "text": [
            "   current_stock  avg_daily_demand  lead_time_days  reorder_point  \\\n",
            "0            549             45.76            5.64         342.83   \n",
            "1            486             45.47            6.39         348.37   \n",
            "2            564             32.04            5.81         353.21   \n",
            "3            652             46.70            7.22         397.34   \n",
            "4            476             57.33            9.39         312.64   \n",
            "\n",
            "   sales_last_30_days  stock_turnover_ratio  forecast_error    season  \\\n",
            "0             1604.49                  4.17           -9.90      peak   \n",
            "1             1585.00                  4.01           -5.27      peak   \n",
            "2             1219.04                  3.57           -2.94  off-peak   \n",
            "3             1673.88                  4.00            0.75  off-peak   \n",
            "4             1052.98                  4.49            5.12      peak   \n",
            "\n",
            "   item_category supplier_reliability stock_status  \n",
            "0      essential                  low    overstock  \n",
            "1  non-essential                 high    overstock  \n",
            "2  non-essential                 high    overstock  \n",
            "3      essential                  low    overstock  \n",
            "4      essential                 high    overstock  \n",
            "<class 'pandas.core.frame.DataFrame'>\n",
            "RangeIndex: 5000 entries, 0 to 4999\n",
            "Data columns (total 11 columns):\n",
            " #   Column                Non-Null Count  Dtype  \n",
            "---  ------                --------------  -----  \n",
            " 0   current_stock         5000 non-null   int64  \n",
            " 1   avg_daily_demand      5000 non-null   float64\n",
            " 2   lead_time_days        5000 non-null   float64\n",
            " 3   reorder_point         5000 non-null   float64\n",
            " 4   sales_last_30_days    5000 non-null   float64\n",
            " 5   stock_turnover_ratio  5000 non-null   float64\n",
            " 6   forecast_error        5000 non-null   float64\n",
            " 7   season                5000 non-null   object \n",
            " 8   item_category         5000 non-null   object \n",
            " 9   supplier_reliability  5000 non-null   object \n",
            " 10  stock_status          5000 non-null   object \n",
            "dtypes: float64(6), int64(1), object(4)\n",
            "memory usage: 429.8+ KB\n",
            "None\n",
            "stock_status\n",
            "overstock    4543\n",
            "stockout      457\n",
            "Name: count, dtype: int64\n"
          ]
        }
      ]
    },
    {
      "cell_type": "code",
      "source": [
        "plt.figure(figsize=(6, 4))\n",
        "sns.countplot(x=y)\n",
        "plt.title('Target Class Distribution (stock_status)')\n",
        "plt.show()"
      ],
      "metadata": {
        "id": "ywu7SyKWkOTJ"
      },
      "execution_count": null,
      "outputs": []
    },
    {
      "cell_type": "code",
      "source": [
        "# Correlation heatmap\n",
        "plt.figure(figsize=(10, 8))\n",
        "corr = df.corr()\n",
        "sns.heatmap(corr, annot=True, cmap='coolwarm')\n",
        "plt.title('Correlation Heatmap')\n",
        "plt.show()"
      ],
      "metadata": {
        "id": "2w9NC785kOYx"
      },
      "execution_count": null,
      "outputs": []
    },
    {
      "cell_type": "code",
      "source": [
        "# Count plots for categorical features\n",
        "plt.figure(figsize=(10, 6))\n",
        "sns.countplot(data=df, x='season', hue='stock_status')\n",
        "plt.title('Season vs Stock Status')\n",
        "plt.show()"
      ],
      "metadata": {
        "id": "6EGeWUo6kOcR"
      },
      "execution_count": null,
      "outputs": []
    },
    {
      "cell_type": "code",
      "source": [
        "plt.figure(figsize=(10, 6))\n",
        "sns.countplot(data=df, x='supplier_reliability', hue='stock_status')\n",
        "plt.title('Supplier Reliability vs Stock Status')\n",
        "plt.show()"
      ],
      "metadata": {
        "id": "6KeXUupvkOgh"
      },
      "execution_count": null,
      "outputs": []
    },
    {
      "cell_type": "code",
      "source": [
        "# Feature importance\n",
        "importances = pd.Series(rf.feature_importances_, index=X.columns)\n",
        "importances = importances.sort_values(ascending=False)\n",
        "\n",
        "# Plot\n",
        "plt.figure(figsize=(10, 6))\n",
        "sns.barplot(x=importances, y=importances.index)\n",
        "plt.title(\"Feature Importances - Random Forest\")\n",
        "plt.xlabel(\"Importance Score\")\n",
        "plt.ylabel(\"Features\")\n",
        "plt.tight_layout()\n",
        "plt.show()"
      ],
      "metadata": {
        "id": "rRQpXoIFkplo"
      },
      "execution_count": null,
      "outputs": []
    },
    {
      "cell_type": "code",
      "source": [
        "# Drop duplicate rows\n",
        "df = df.drop_duplicates()\n",
        "# Strip spaces and fix categorical issues\n",
        "df.columns = df.columns.str.strip()\n",
        "for col in df.select_dtypes(include='object'):\n",
        "    df[col] = df[col].str.strip()"
      ],
      "metadata": {
        "id": "w4-3TpnYkpsQ"
      },
      "execution_count": null,
      "outputs": []
    },
    {
      "cell_type": "code",
      "source": [
        "# Numerical features vs target\n",
        "for col in df.select_dtypes(include='number').columns:\n",
        "    if col != 'stock_status':  # skip target\n",
        "        plt.figure(figsize=(6,4))\n",
        "        sns.boxplot(x='stock_status', y=col, data=df)\n",
        "        plt.title(f'{col} vs Stock Status')\n",
        "        plt.tight_layout()\n",
        "        plt.show()\n",
        "\n",
        "# Categorical vs target\n",
        "for col in df.select_dtypes(include='object').columns:\n",
        "    plt.figure(figsize=(6,4))\n",
        "    sns.countplot(data=df, x=col, hue='stock_status')\n",
        "    plt.title(f'{col} by Stock Status')\n",
        "    plt.xticks(rotation=45)\n",
        "    plt.tight_layout()\n",
        "    plt.show()"
      ],
      "metadata": {
        "id": "PAsO-jjskpvA"
      },
      "execution_count": null,
      "outputs": []
    },
    {
      "cell_type": "code",
      "source": [
        "# Define columns safe to clean\n",
        "columns_to_clean = ['current_stock', 'avg_daily_demand', 'stock_turnover_ratio', 'sales_last_30_days']\n",
        "\n",
        "# Create a copy\n",
        "df_clean = df.copy()\n",
        "\n",
        "# Remove outliers using IQR method\n",
        "for col in columns_to_clean:\n",
        "    Q1 = df_clean[col].quantile(0.25)\n",
        "    Q3 = df_clean[col].quantile(0.75)\n",
        "    IQR = Q3 - Q1\n",
        "    lower_bound = Q1 - 1.5 * IQR\n",
        "    upper_bound = Q3 + 1.5 * IQR\n",
        "    df_clean = df_clean[(df_clean[col] >= lower_bound) & (df_clean[col] <= upper_bound)]\n",
        "\n",
        "# Check if both classes are still present\n",
        "print(df_clean['stock_status'].value_counts())"
      ],
      "metadata": {
        "id": "esppBNlQkpxg"
      },
      "execution_count": null,
      "outputs": []
    },
    {
      "cell_type": "code",
      "source": [
        "sns.countplot(data=df, x='stock_status')\n",
        "plt.title(\"Class Distribution\")\n",
        "plt.tight_layout()\n",
        "plt.show()"
      ],
      "metadata": {
        "id": "SzRGBczJkp0P"
      },
      "execution_count": null,
      "outputs": []
    },
    {
      "cell_type": "code",
      "source": [
        "import matplotlib.pyplot as plt\n",
        "import seaborn as sns\n",
        "\n",
        "plt.figure(figsize=(10, 8))\n",
        "sns.heatmap(df_clean.select_dtypes(include='number').corr(),\n",
        "            annot=True, cmap='coolwarm', fmt=\".2f\", linewidths=0.5)\n",
        "plt.title(\"Correlation Heatmap (After Outlier Removal)\")\n",
        "plt.tight_layout()\n",
        "plt.show()"
      ],
      "metadata": {
        "id": "qauye0OalIAM"
      },
      "execution_count": null,
      "outputs": []
    },
    {
      "cell_type": "code",
      "source": [],
      "metadata": {
        "id": "xCrSvu5LlIIL"
      },
      "execution_count": null,
      "outputs": []
    },
    {
      "cell_type": "code",
      "source": [
        "# 3. Define features and target\n",
        "X = df.drop(columns=['stock_status'])  # Replace with actual column name\n",
        "y = df['stock_status']\n"
      ],
      "metadata": {
        "id": "-dAjaVDzQtN2"
      },
      "execution_count": null,
      "outputs": []
    },
    {
      "cell_type": "code",
      "source": [
        "# 4. Train-test split\n",
        "X_train, X_test, y_train, y_test = train_test_split(\n",
        "    X, y, test_size=0.2, stratify=y, random_state=42\n",
        ")"
      ],
      "metadata": {
        "id": "q80UQKn-RNOW"
      },
      "execution_count": null,
      "outputs": []
    },
    {
      "cell_type": "code",
      "source": [
        "# 5. Define models\n",
        "models = {\n",
        "    \"Logistic Regression\": LogisticRegression(max_iter=1000),\n",
        "    \"Decision Tree\": DecisionTreeClassifier(),\n",
        "    \"Random Forest\": RandomForestClassifier(),\n",
        "    \"Gradient Boosting\": GradientBoostingClassifier(),\n",
        "    \"SVM\": SVC(probability=True),\n",
        "    \"XGBoost\": XGBClassifier(use_label_encoder=False, eval_metric='logloss'),\n",
        "    \"Naive Bayes\": GaussianNB(),\n",
        "    \"KNN\": KNeighborsClassifier()\n",
        "}"
      ],
      "metadata": {
        "id": "E4UboyuBRQP0"
      },
      "execution_count": null,
      "outputs": []
    },
    {
      "source": [
        "# 6. Function to train and evaluate each model using pipeline\n",
        "results = []\n",
        "\n",
        "# Import necessary encoders\n",
        "from sklearn.preprocessing import OneHotEncoder, LabelEncoder\n",
        "from sklearn.compose import ColumnTransformer\n",
        "\n",
        "# Identify categorical columns\n",
        "categorical_features = X.select_dtypes(include=['object', 'category']).columns\n",
        "\n",
        "# Create a preprocessor to handle categorical and numerical features\n",
        "preprocessor = ColumnTransformer(\n",
        "    transformers=[\n",
        "        ('cat', OneHotEncoder(handle_unknown='ignore'), categorical_features)\n",
        "    ],\n",
        "    remainder='passthrough' # Keep numerical columns as they are\n",
        ")\n",
        "\n",
        "# Initialize LabelEncoder for the target variable\n",
        "label_encoder = LabelEncoder()\n",
        "\n",
        "# Fit and transform the target variable into numerical labels\n",
        "y_train_encoded = label_encoder.fit_transform(y_train)\n",
        "y_test_encoded = label_encoder.transform(y_test) # Use the same encoder for test set\n",
        "\n",
        "for name, model in models.items():\n",
        "    # Update the pipeline to include the preprocessor before SMOTE and scaling\n",
        "    pipe = ImbPipeline([\n",
        "        ('preprocessor', preprocessor),\n",
        "        ('smote', SMOTE(random_state=42)),\n",
        "        ('scaler', StandardScaler()),\n",
        "        ('clf', model)\n",
        "    ])\n",
        "\n",
        "    # Fit the pipeline using the encoded target variable\n",
        "    pipe.fit(X_train, y_train_encoded)\n",
        "    y_pred_encoded = pipe.predict(X_test)\n",
        "\n",
        "    # Decode the predictions back to original labels for report\n",
        "    y_pred = label_encoder.inverse_transform(y_pred_encoded)\n",
        "\n",
        "\n",
        "    # Ensure y_proba is calculated correctly after preprocessing and SMOTE\n",
        "    if hasattr(pipe, 'predict_proba'):\n",
        "         y_proba = pipe.predict_proba(X_test)[:, 1]\n",
        "    else:\n",
        "\n",
        "         y_proba = y_pred_encoded # Use encoded predictions for AUC if no proba\n",
        "\n",
        "    acc = accuracy_score(y_test_encoded, y_pred_encoded)\n",
        "    auc = roc_auc_score(y_test_encoded, y_proba)\n",
        "\n",
        "\n",
        "    print(f\"\\n{name}\")\n",
        "    print(\"Accuracy:\", round(acc, 3))\n",
        "    print(\"AUC Score:\", round(auc, 3))\n",
        "    # Use original y_test and decoded y_pred for the classification report for readability\n",
        "    print(classification_report(y_test, y_pred))\n",
        "\n",
        "\n",
        "    results.append({'Model': name, 'Accuracy': acc, 'AUC': auc})"
      ],
      "cell_type": "code",
      "metadata": {
        "colab": {
          "base_uri": "https://localhost:8080/"
        },
        "id": "aPfI6ePkRpLD",
        "outputId": "1f1e4a61-964c-4897-c917-b8c858a3f72e"
      },
      "execution_count": null,
      "outputs": [
        {
          "output_type": "stream",
          "name": "stdout",
          "text": [
            "\n",
            "Logistic Regression\n",
            "Accuracy: 0.982\n",
            "AUC Score: 1.0\n",
            "              precision    recall  f1-score   support\n",
            "\n",
            "   overstock       1.00      0.98      0.99       909\n",
            "    stockout       0.83      1.00      0.91        91\n",
            "\n",
            "    accuracy                           0.98      1000\n",
            "   macro avg       0.92      0.99      0.95      1000\n",
            "weighted avg       0.98      0.98      0.98      1000\n",
            "\n",
            "\n",
            "Decision Tree\n",
            "Accuracy: 0.985\n",
            "AUC Score: 0.957\n",
            "              precision    recall  f1-score   support\n",
            "\n",
            "   overstock       0.99      0.99      0.99       909\n",
            "    stockout       0.91      0.92      0.92        91\n",
            "\n",
            "    accuracy                           0.98      1000\n",
            "   macro avg       0.95      0.96      0.95      1000\n",
            "weighted avg       0.99      0.98      0.99      1000\n",
            "\n",
            "\n",
            "Random Forest\n",
            "Accuracy: 0.987\n",
            "AUC Score: 0.997\n",
            "              precision    recall  f1-score   support\n",
            "\n",
            "   overstock       0.99      0.99      0.99       909\n",
            "    stockout       0.92      0.93      0.93        91\n",
            "\n",
            "    accuracy                           0.99      1000\n",
            "   macro avg       0.96      0.96      0.96      1000\n",
            "weighted avg       0.99      0.99      0.99      1000\n",
            "\n",
            "\n",
            "Gradient Boosting\n",
            "Accuracy: 0.991\n",
            "AUC Score: 0.999\n",
            "              precision    recall  f1-score   support\n",
            "\n",
            "   overstock       1.00      0.99      1.00       909\n",
            "    stockout       0.93      0.98      0.95        91\n",
            "\n",
            "    accuracy                           0.99      1000\n",
            "   macro avg       0.96      0.99      0.97      1000\n",
            "weighted avg       0.99      0.99      0.99      1000\n",
            "\n",
            "\n",
            "SVM\n",
            "Accuracy: 0.977\n",
            "AUC Score: 0.996\n",
            "              precision    recall  f1-score   support\n",
            "\n",
            "   overstock       0.99      0.98      0.99       909\n",
            "    stockout       0.84      0.92      0.88        91\n",
            "\n",
            "    accuracy                           0.98      1000\n",
            "   macro avg       0.92      0.95      0.93      1000\n",
            "weighted avg       0.98      0.98      0.98      1000\n",
            "\n",
            "\n",
            "XGBoost\n",
            "Accuracy: 0.991\n",
            "AUC Score: 0.999\n",
            "              precision    recall  f1-score   support\n",
            "\n",
            "   overstock       1.00      0.99      1.00       909\n",
            "    stockout       0.93      0.98      0.95        91\n",
            "\n",
            "    accuracy                           0.99      1000\n",
            "   macro avg       0.96      0.99      0.97      1000\n",
            "weighted avg       0.99      0.99      0.99      1000\n",
            "\n",
            "\n",
            "Naive Bayes\n",
            "Accuracy: 0.939\n",
            "AUC Score: 0.985\n",
            "              precision    recall  f1-score   support\n",
            "\n",
            "   overstock       1.00      0.94      0.97       909\n",
            "    stockout       0.60      0.97      0.74        91\n",
            "\n",
            "    accuracy                           0.94      1000\n",
            "   macro avg       0.80      0.95      0.85      1000\n",
            "weighted avg       0.96      0.94      0.95      1000\n",
            "\n",
            "\n",
            "KNN\n",
            "Accuracy: 0.921\n",
            "AUC Score: 0.916\n",
            "              precision    recall  f1-score   support\n",
            "\n",
            "   overstock       0.97      0.94      0.96       909\n",
            "    stockout       0.55      0.75      0.63        91\n",
            "\n",
            "    accuracy                           0.92      1000\n",
            "   macro avg       0.76      0.84      0.79      1000\n",
            "weighted avg       0.94      0.92      0.93      1000\n",
            "\n"
          ]
        }
      ]
    },
    {
      "cell_type": "code",
      "source": [
        "# 7. Compare Models\n",
        "results_df = pd.DataFrame(results).sort_values(by='AUC', ascending=False)\n",
        "print(results_df)\n",
        "\n",
        "# Plot comparison\n",
        "plt.figure(figsize=(10, 6))\n",
        "sns.barplot(x='AUC', y='Model', data=results_df)\n",
        "plt.title(\"Model Comparison by AUC Score\")\n",
        "plt.xlabel(\"AUC Score\")\n",
        "plt.ylabel(\"Model\")\n",
        "plt.xlim(0.5, 1.0)\n",
        "plt.show()\n"
      ],
      "metadata": {
        "colab": {
          "base_uri": "https://localhost:8080/",
          "height": 720
        },
        "id": "1ZMtWkxlRWcQ",
        "outputId": "de47239a-6412-4356-f2af-57c7d4015e1d"
      },
      "execution_count": null,
      "outputs": [
        {
          "output_type": "stream",
          "name": "stdout",
          "text": [
            "                 Model  Accuracy       AUC\n",
            "0  Logistic Regression     0.982  0.999964\n",
            "5              XGBoost     0.991  0.999105\n",
            "3    Gradient Boosting     0.991  0.998634\n",
            "2        Random Forest     0.987  0.997346\n",
            "4                  SVM     0.977  0.995733\n",
            "6          Naive Bayes     0.939  0.984586\n",
            "1        Decision Tree     0.985  0.957138\n",
            "7                  KNN     0.921  0.916023\n"
          ]
        },
        {
          "output_type": "display_data",
          "data": {
            "text/plain": [
              "<Figure size 1000x600 with 1 Axes>"
            ],
            "image/png": "[encoded data removed]"
          },
          "metadata": {}
        }
      ]
    },
    {
      "cell_type": "markdown",
      "source": [],
      "metadata": {
        "id": "92EapCmGfPZ9"
      }
    },
    {
      "source": [
        "from tensorflow.keras.models import Sequential\n",
        "from tensorflow.keras.layers import Dense, Dropout\n",
        "from tensorflow.keras.optimizers import Adam\n",
        "from sklearn.metrics import classification_report, confusion_matrix, roc_curve, auc\n",
        "import seaborn as sns\n",
        "import matplotlib.pyplot as plt\n",
        "# Assuming 'preprocessor', 'y_train_encoded', and 'y_test_encoded' are already defined and fitted from previous cells\n",
        "\n",
        "# Apply the preprocessor to the training and testing data\n",
        "X_train_processed = preprocessor.transform(X_train)\n",
        "X_test_processed = preprocessor.transform(X_test)\n",
        "\n",
        "# Build the ANN model\n",
        "# The input_dim should be the number of features after preprocessing\n",
        "model = Sequential()\n",
        "model.add(Dense(64, activation='relu', input_dim=X_train_processed.shape[1]))\n",
        "model.add(Dropout(0.3))\n",
        "model.add(Dense(32, activation='relu'))\n",
        "model.add(Dropout(0.3))\n",
        "model.add(Dense(1, activation='sigmoid'))  # binary classification\n",
        "\n",
        "# Compile the model\n",
        "model.compile(optimizer=Adam(learning_rate=0.001), loss='binary_crossentropy', metrics=['accuracy'])\n",
        "\n",
        "# Train the model using the processed data and encoded target\n",
        "history = model.fit(X_train_processed, y_train_encoded, epochs=50, batch_size=32, validation_split=0.2, verbose=1)\n",
        "\n",
        "# Predict probabilities and classes using the processed test data\n",
        "y_pred_proba = model.predict(X_test_processed).ravel()\n",
        "y_pred_encoded = (y_pred_proba > 0.5).astype(int)\n",
        "\n",
        "# Decode the predictions back to original labels for report\n",
        "y_pred = label_encoder.inverse_transform(y_pred_encoded)\n",
        "\n",
        "# Classification Report - Use original y_test and decoded y_pred for readability\n",
        "print(\"Classification Report:\\n\", classification_report(y_test, y_pred))\n",
        "\n",
        "# Confusion Matrix - Use original y_test and decoded y_pred for readability\n",
        "cm = confusion_matrix(y_test, y_pred)\n",
        "sns.heatmap(cm, annot=True, fmt='d', cmap='Blues')\n",
        "plt.title('ANN - Confusion Matrix')\n",
        "plt.xlabel('Predicted')\n",
        "plt.ylabel('Actual')\n",
        "plt.show()\n",
        "\n",
        "# ROC Curve - Use encoded y_test and predicted probabilities\n",
        "fpr, tpr, _ = roc_curve(y_test_encoded, y_pred_proba)\n",
        "roc_auc = auc(fpr, tpr)\n",
        "plt.plot(fpr, tpr, label='AUC = {:.3f}'.format(roc_auc))\n",
        "plt.plot([0, 1], [0, 1], linestyle='--')\n",
        "plt.title('ANN - ROC Curve')\n",
        "plt.xlabel('False Positive Rate')\n",
        "plt.ylabel('True Positive Rate')\n",
        "plt.legend()\n",
        "plt.show()"
      ],
      "cell_type": "code",
      "metadata": {
        "colab": {
          "base_uri": "https://localhost:8080/",
          "height": 1000
        },
        "id": "7aFDG2Gf0VmB",
        "outputId": "976489aa-9eab-4e0e-9b33-0d68754f8b2f"
      },
      "execution_count": null,
      "outputs": [
        {
          "output_type": "stream",
          "name": "stdout",
          "text": [
            "Epoch 1/50\n",
            "\u001b[1m100/100\u001b[0m \u001b[32m━━━━━━━━━━━━━━━━━━━━\u001b[0m\u001b[37m\u001b[0m \u001b[1m2s\u001b[0m 4ms/step - accuracy: 0.7241 - loss: 58.9846 - val_accuracy: 0.9125 - val_loss: 11.0125\n",
            "Epoch 2/50\n",
            "\u001b[1m100/100\u001b[0m \u001b[32m━━━━━━━━━━━━━━━━━━━━\u001b[0m\u001b[37m\u001b[0m \u001b[1m0s\u001b[0m 2ms/step - accuracy: 0.8411 - loss: 14.0049 - val_accuracy: 0.9125 - val_loss: 2.9574\n",
            "Epoch 3/50\n",
            "\u001b[1m100/100\u001b[0m \u001b[32m━━━━━━━━━━━━━━━━━━━━\u001b[0m\u001b[37m\u001b[0m \u001b[1m0s\u001b[0m 2ms/step - accuracy: 0.8640 - loss: 5.9424 - val_accuracy: 0.9125 - val_loss: 1.2683\n",
            "Epoch 4/50\n",
            "\u001b[1m100/100\u001b[0m \u001b[32m━━━━━━━━━━━━━━━━━━━━\u001b[0m\u001b[37m\u001b[0m \u001b[1m0s\u001b[0m 2ms/step - accuracy: 0.8656 - loss: 2.8774 - val_accuracy: 0.9125 - val_loss: 0.2913\n",
            "Epoch 5/50\n",
            "\u001b[1m100/100\u001b[0m \u001b[32m━━━━━━━━━━━━━━━━━━━━\u001b[0m\u001b[37m\u001b[0m \u001b[1m0s\u001b[0m 2ms/step - accuracy: 0.9040 - loss: 1.2005 - val_accuracy: 0.9125 - val_loss: 0.2322\n",
            "Epoch 6/50\n",
            "\u001b[1m100/100\u001b[0m \u001b[32m━━━━━━━━━━━━━━━━━━━━\u001b[0m\u001b[37m\u001b[0m \u001b[1m0s\u001b[0m 2ms/step - accuracy: 0.8854 - loss: 1.1970 - val_accuracy: 0.9125 - val_loss: 0.2938\n",
            "Epoch 7/50\n",
            "\u001b[1m100/100\u001b[0m \u001b[32m━━━━━━━━━━━━━━━━━━━━\u001b[0m\u001b[37m\u001b[0m \u001b[1m0s\u001b[0m 2ms/step - accuracy: 0.9036 - loss: 0.7832 - val_accuracy: 0.9125 - val_loss: 0.2615\n",
            "Epoch 8/50\n",
            "\u001b[1m100/100\u001b[0m \u001b[32m━━━━━━━━━━━━━━━━━━━━\u001b[0m\u001b[37m\u001b[0m \u001b[1m0s\u001b[0m 2ms/step - accuracy: 0.9071 - loss: 0.5627 - val_accuracy: 0.9125 - val_loss: 0.2087\n",
            "Epoch 9/50\n",
            "\u001b[1m100/100\u001b[0m \u001b[32m━━━━━━━━━━━━━━━━━━━━\u001b[0m\u001b[37m\u001b[0m \u001b[1m0s\u001b[0m 2ms/step - accuracy: 0.9080 - loss: 0.5784 - val_accuracy: 0.9125 - val_loss: 0.2079\n",
            "Epoch 10/50\n",
            "\u001b[1m100/100\u001b[0m \u001b[32m━━━━━━━━━━━━━━━━━━━━\u001b[0m\u001b[37m\u001b[0m \u001b[1m0s\u001b[0m 2ms/step - accuracy: 0.8979 - loss: 0.5302 - val_accuracy: 0.9125 - val_loss: 0.2080\n",
            "Epoch 11/50\n",
            "\u001b[1m100/100\u001b[0m \u001b[32m━━━━━━━━━━━━━━━━━━━━\u001b[0m\u001b[37m\u001b[0m \u001b[1m0s\u001b[0m 2ms/step - accuracy: 0.9052 - loss: 0.4271 - val_accuracy: 0.9125 - val_loss: 0.1769\n",
            "Epoch 12/50\n",
            "\u001b[1m100/100\u001b[0m \u001b[32m━━━━━━━━━━━━━━━━━━━━\u001b[0m\u001b[37m\u001b[0m \u001b[1m0s\u001b[0m 2ms/step - accuracy: 0.9101 - loss: 0.3460 - val_accuracy: 0.9125 - val_loss: 0.1798\n",
            "Epoch 13/50\n",
            "\u001b[1m100/100\u001b[0m \u001b[32m━━━━━━━━━━━━━━━━━━━━\u001b[0m\u001b[37m\u001b[0m \u001b[1m0s\u001b[0m 2ms/step - accuracy: 0.9098 - loss: 0.3343 - val_accuracy: 0.9125 - val_loss: 0.1679\n",
            "Epoch 14/50\n",
            "\u001b[1m100/100\u001b[0m \u001b[32m━━━━━━━━━━━━━━━━━━━━\u001b[0m\u001b[37m\u001b[0m \u001b[1m0s\u001b[0m 2ms/step - accuracy: 0.9070 - loss: 0.2992 - val_accuracy: 0.9125 - val_loss: 0.1536\n",
            "Epoch 15/50\n",
            "\u001b[1m100/100\u001b[0m \u001b[32m━━━━━━━━━━━━━━━━━━━━\u001b[0m\u001b[37m\u001b[0m \u001b[1m0s\u001b[0m 2ms/step - accuracy: 0.9074 - loss: 0.2922 - val_accuracy: 0.9125 - val_loss: 0.1437\n",
            "Epoch 16/50\n",
            "\u001b[1m100/100\u001b[0m \u001b[32m━━━━━━━━━━━━━━━━━━━━\u001b[0m\u001b[37m\u001b[0m \u001b[1m0s\u001b[0m 2ms/step - accuracy: 0.9132 - loss: 0.2340 - val_accuracy: 0.9125 - val_loss: 0.1348\n",
            "Epoch 17/50\n",
            "\u001b[1m100/100\u001b[0m \u001b[32m━━━━━━━━━━━━━━━━━━━━\u001b[0m\u001b[37m\u001b[0m \u001b[1m0s\u001b[0m 2ms/step - accuracy: 0.9108 - loss: 0.2621 - val_accuracy: 0.9150 - val_loss: 0.1369\n",
            "Epoch 18/50\n",
            "\u001b[1m100/100\u001b[0m \u001b[32m━━━━━━━━━━━━━━━━━━━━\u001b[0m\u001b[37m\u001b[0m \u001b[1m0s\u001b[0m 2ms/step - accuracy: 0.9080 - loss: 0.2352 - val_accuracy: 0.9150 - val_loss: 0.1220\n",
            "Epoch 19/50\n",
            "\u001b[1m100/100\u001b[0m \u001b[32m━━━━━━━━━━━━━━━━━━━━\u001b[0m\u001b[37m\u001b[0m \u001b[1m0s\u001b[0m 2ms/step - accuracy: 0.9145 - loss: 0.2405 - val_accuracy: 0.9150 - val_loss: 0.1139\n",
            "Epoch 20/50\n",
            "\u001b[1m100/100\u001b[0m \u001b[32m━━━━━━━━━━━━━━━━━━━━\u001b[0m\u001b[37m\u001b[0m \u001b[1m0s\u001b[0m 4ms/step - accuracy: 0.9226 - loss: 0.2019 - val_accuracy: 0.9325 - val_loss: 0.1081\n",
            "Epoch 21/50\n",
            "\u001b[1m100/100\u001b[0m \u001b[32m━━━━━━━━━━━━━━━━━━━━\u001b[0m\u001b[37m\u001b[0m \u001b[1m0s\u001b[0m 2ms/step - accuracy: 0.9132 - loss: 0.2059 - val_accuracy: 0.9187 - val_loss: 0.1038\n",
            "Epoch 22/50\n",
            "\u001b[1m100/100\u001b[0m \u001b[32m━━━━━━━━━━━━━━━━━━━━\u001b[0m\u001b[37m\u001b[0m \u001b[1m0s\u001b[0m 2ms/step - accuracy: 0.9215 - loss: 0.1900 - val_accuracy: 0.9613 - val_loss: 0.0804\n",
            "Epoch 23/50\n",
            "\u001b[1m100/100\u001b[0m \u001b[32m━━━━━━━━━━━━━━━━━━━━\u001b[0m\u001b[37m\u001b[0m \u001b[1m0s\u001b[0m 4ms/step - accuracy: 0.9237 - loss: 0.1830 - val_accuracy: 0.9725 - val_loss: 0.0757\n",
            "Epoch 24/50\n",
            "\u001b[1m100/100\u001b[0m \u001b[32m━━━━━━━━━━━━━━━━━━━━\u001b[0m\u001b[37m\u001b[0m \u001b[1m0s\u001b[0m 2ms/step - accuracy: 0.9298 - loss: 0.1704 - val_accuracy: 0.9575 - val_loss: 0.0771\n",
            "Epoch 25/50\n",
            "\u001b[1m100/100\u001b[0m \u001b[32m━━━━━━━━━━━━━━━━━━━━\u001b[0m\u001b[37m\u001b[0m \u001b[1m1s\u001b[0m 2ms/step - accuracy: 0.9236 - loss: 0.1840 - val_accuracy: 0.9800 - val_loss: 0.0650\n",
            "Epoch 26/50\n",
            "\u001b[1m100/100\u001b[0m \u001b[32m━━━━━━━━━━━━━━━━━━━━\u001b[0m\u001b[37m\u001b[0m \u001b[1m0s\u001b[0m 2ms/step - accuracy: 0.9393 - loss: 0.1467 - val_accuracy: 0.9688 - val_loss: 0.0692\n",
            "Epoch 27/50\n",
            "\u001b[1m100/100\u001b[0m \u001b[32m━━━━━━━━━━━━━━━━━━━━\u001b[0m\u001b[37m\u001b[0m \u001b[1m0s\u001b[0m 2ms/step - accuracy: 0.9439 - loss: 0.1441 - val_accuracy: 0.9812 - val_loss: 0.0590\n",
            "Epoch 28/50\n",
            "\u001b[1m100/100\u001b[0m \u001b[32m━━━━━━━━━━━━━━━━━━━━\u001b[0m\u001b[37m\u001b[0m \u001b[1m0s\u001b[0m 2ms/step - accuracy: 0.9441 - loss: 0.1610 - val_accuracy: 0.9900 - val_loss: 0.0462\n",
            "Epoch 29/50\n",
            "\u001b[1m100/100\u001b[0m \u001b[32m━━━━━━━━━━━━━━━━━━━━\u001b[0m\u001b[37m\u001b[0m \u001b[1m0s\u001b[0m 2ms/step - accuracy: 0.9460 - loss: 0.1314 - val_accuracy: 0.9887 - val_loss: 0.0485\n",
            "Epoch 30/50\n",
            "\u001b[1m100/100\u001b[0m \u001b[32m━━━━━━━━━━━━━━━━━━━━\u001b[0m\u001b[37m\u001b[0m \u001b[1m0s\u001b[0m 2ms/step - accuracy: 0.9500 - loss: 0.1144 - val_accuracy: 0.9900 - val_loss: 0.0533\n",
            "Epoch 31/50\n",
            "\u001b[1m100/100\u001b[0m \u001b[32m━━━━━━━━━━━━━━━━━━━━\u001b[0m\u001b[37m\u001b[0m \u001b[1m0s\u001b[0m 2ms/step - accuracy: 0.9496 - loss: 0.1272 - val_accuracy: 0.9588 - val_loss: 0.0769\n",
            "Epoch 32/50\n",
            "\u001b[1m100/100\u001b[0m \u001b[32m━━━━━━━━━━━━━━━━━━━━\u001b[0m\u001b[37m\u001b[0m \u001b[1m0s\u001b[0m 2ms/step - accuracy: 0.9553 - loss: 0.1101 - val_accuracy: 0.9837 - val_loss: 0.0492\n",
            "Epoch 33/50\n",
            "\u001b[1m100/100\u001b[0m \u001b[32m━━━━━━━━━━━━━━━━━━━━\u001b[0m\u001b[37m\u001b[0m \u001b[1m0s\u001b[0m 2ms/step - accuracy: 0.9569 - loss: 0.0992 - val_accuracy: 0.9900 - val_loss: 0.0513\n",
            "Epoch 34/50\n",
            "\u001b[1m100/100\u001b[0m \u001b[32m━━━━━━━━━━━━━━━━━━━━\u001b[0m\u001b[37m\u001b[0m \u001b[1m0s\u001b[0m 3ms/step - accuracy: 0.9490 - loss: 0.1143 - val_accuracy: 0.9950 - val_loss: 0.0394\n",
            "Epoch 35/50\n",
            "\u001b[1m100/100\u001b[0m \u001b[32m━━━━━━━━━━━━━━━━━━━━\u001b[0m\u001b[37m\u001b[0m \u001b[1m0s\u001b[0m 3ms/step - accuracy: 0.9609 - loss: 0.0949 - val_accuracy: 0.9850 - val_loss: 0.0485\n",
            "Epoch 36/50\n",
            "\u001b[1m100/100\u001b[0m \u001b[32m━━━━━━━━━━━━━━━━━━━━\u001b[0m\u001b[37m\u001b[0m \u001b[1m0s\u001b[0m 3ms/step - accuracy: 0.9588 - loss: 0.1020 - val_accuracy: 0.9850 - val_loss: 0.0346\n",
            "Epoch 37/50\n",
            "\u001b[1m100/100\u001b[0m \u001b[32m━━━━━━━━━━━━━━━━━━━━\u001b[0m\u001b[37m\u001b[0m \u001b[1m0s\u001b[0m 2ms/step - accuracy: 0.9571 - loss: 0.0940 - val_accuracy: 0.9900 - val_loss: 0.0293\n",
            "Epoch 38/50\n",
            "\u001b[1m100/100\u001b[0m \u001b[32m━━━━━━━━━━━━━━━━━━━━\u001b[0m\u001b[37m\u001b[0m \u001b[1m0s\u001b[0m 2ms/step - accuracy: 0.9623 - loss: 0.0961 - val_accuracy: 0.9850 - val_loss: 0.0380\n",
            "Epoch 39/50\n",
            "\u001b[1m100/100\u001b[0m \u001b[32m━━━━━━━━━━━━━━━━━━━━\u001b[0m\u001b[37m\u001b[0m \u001b[1m0s\u001b[0m 2ms/step - accuracy: 0.9533 - loss: 0.0890 - val_accuracy: 0.9862 - val_loss: 0.0263\n",
            "Epoch 40/50\n",
            "\u001b[1m100/100\u001b[0m \u001b[32m━━━━━━━━━━━━━━━━━━━━\u001b[0m\u001b[37m\u001b[0m \u001b[1m0s\u001b[0m 2ms/step - accuracy: 0.9661 - loss: 0.0770 - val_accuracy: 0.9950 - val_loss: 0.0227\n",
            "Epoch 41/50\n",
            "\u001b[1m100/100\u001b[0m \u001b[32m━━━━━━━━━━━━━━━━━━━━\u001b[0m\u001b[37m\u001b[0m \u001b[1m0s\u001b[0m 2ms/step - accuracy: 0.9602 - loss: 0.0874 - val_accuracy: 0.9862 - val_loss: 0.0308\n",
            "Epoch 42/50\n",
            "\u001b[1m100/100\u001b[0m \u001b[32m━━━━━━━━━━━━━━━━━━━━\u001b[0m\u001b[37m\u001b[0m \u001b[1m0s\u001b[0m 2ms/step - accuracy: 0.9760 - loss: 0.0619 - val_accuracy: 0.9812 - val_loss: 0.0364\n",
            "Epoch 43/50\n",
            "\u001b[1m100/100\u001b[0m \u001b[32m━━━━━━━━━━━━━━━━━━━━\u001b[0m\u001b[37m\u001b[0m \u001b[1m0s\u001b[0m 2ms/step - accuracy: 0.9759 - loss: 0.0584 - val_accuracy: 0.9937 - val_loss: 0.0280\n",
            "Epoch 44/50\n",
            "\u001b[1m100/100\u001b[0m \u001b[32m━━━━━━━━━━━━━━━━━━━━\u001b[0m\u001b[37m\u001b[0m \u001b[1m0s\u001b[0m 2ms/step - accuracy: 0.9705 - loss: 0.0778 - val_accuracy: 0.9950 - val_loss: 0.0235\n",
            "Epoch 45/50\n",
            "\u001b[1m100/100\u001b[0m \u001b[32m━━━━━━━━━━━━━━━━━━━━\u001b[0m\u001b[37m\u001b[0m \u001b[1m0s\u001b[0m 2ms/step - accuracy: 0.9800 - loss: 0.0551 - val_accuracy: 0.9825 - val_loss: 0.0426\n",
            "Epoch 46/50\n",
            "\u001b[1m100/100\u001b[0m \u001b[32m━━━━━━━━━━━━━━━━━━━━\u001b[0m\u001b[37m\u001b[0m \u001b[1m0s\u001b[0m 2ms/step - accuracy: 0.9748 - loss: 0.0694 - val_accuracy: 0.9900 - val_loss: 0.0240\n",
            "Epoch 47/50\n",
            "\u001b[1m100/100\u001b[0m \u001b[32m━━━━━━━━━━━━━━━━━━━━\u001b[0m\u001b[37m\u001b[0m \u001b[1m0s\u001b[0m 2ms/step - accuracy: 0.9775 - loss: 0.0583 - val_accuracy: 0.9975 - val_loss: 0.0183\n",
            "Epoch 48/50\n",
            "\u001b[1m100/100\u001b[0m \u001b[32m━━━━━━━━━━━━━━━━━━━━\u001b[0m\u001b[37m\u001b[0m \u001b[1m0s\u001b[0m 2ms/step - accuracy: 0.9809 - loss: 0.0463 - val_accuracy: 0.9887 - val_loss: 0.0222\n",
            "Epoch 49/50\n",
            "\u001b[1m100/100\u001b[0m \u001b[32m━━━━━━━━━━━━━━━━━━━━\u001b[0m\u001b[37m\u001b[0m \u001b[1m0s\u001b[0m 2ms/step - accuracy: 0.9798 - loss: 0.0491 - val_accuracy: 0.9925 - val_loss: 0.0206\n",
            "Epoch 50/50\n",
            "\u001b[1m100/100\u001b[0m \u001b[32m━━━━━━━━━━━━━━━━━━━━\u001b[0m\u001b[37m\u001b[0m \u001b[1m0s\u001b[0m 2ms/step - accuracy: 0.9689 - loss: 0.0875 - val_accuracy: 0.9950 - val_loss: 0.0282\n",
            "\u001b[1m32/32\u001b[0m \u001b[32m━━━━━━━━━━━━━━━━━━━━\u001b[0m\u001b[37m\u001b[0m \u001b[1m0s\u001b[0m 2ms/step \n",
            "Classification Report:\n",
            "               precision    recall  f1-score   support\n",
            "\n",
            "   overstock       0.99      1.00      1.00       909\n",
            "    stockout       1.00      0.92      0.96        91\n",
            "\n",
            "    accuracy                           0.99      1000\n",
            "   macro avg       1.00      0.96      0.98      1000\n",
            "weighted avg       0.99      0.99      0.99      1000\n",
            "\n"
          ]
        },
        {
          "output_type": "display_data",
          "data": {
            "text/plain": [
              "<Figure size 640x480 with 2 Axes>"
            ],
            "image/png": "[encoded data removed]"
          },
          "metadata": {}
        },
        {
          "output_type": "display_data",
          "data": {
            "text/plain": [
              "<Figure size 640x480 with 1 Axes>"
            ],
            "image/png": "[encoded data removed]"
          },
          "metadata": {}
        }
      ]
    },
    {
      "cell_type": "code",
      "source": [
        "print(y.value_counts())"
      ],
      "metadata": {
        "colab": {
          "base_uri": "https://localhost:8080/"
        },
        "id": "bkNU1aaG6yMl",
        "outputId": "fac6d573-ea40-433b-dcdf-32033768311e"
      },
      "execution_count": null,
      "outputs": [
        {
          "output_type": "stream",
          "name": "stdout",
          "text": [
            "stock_status\n",
            "overstock    4543\n",
            "stockout      457\n",
            "Name: count, dtype: int64\n"
          ]
        }
      ]
    },
    {
      "source": [
        "import pandas as pd\n",
        "import numpy as np\n",
        "from sklearn.preprocessing import LabelEncoder\n",
        "from sklearn.feature_selection import VarianceThreshold\n",
        "from sklearn.ensemble import RandomForestClassifier\n",
        "import seaborn as sns\n",
        "import matplotlib.pyplot as plt\n",
        "\n",
        "# Load data\n",
        "df = pd.read_excel(\"stock_risk_prediction_dataset (1).xlsx\")\n",
        "\n",
        "# The actual target column name is 'stock_status'\n",
        "target_column = 'stock_status'\n",
        "\n",
        "# Drop rows where the target column is NaN (if any)\n",
        "# Use the correct target column name\n",
        "df = df.dropna(subset=[target_column])\n",
        "\n",
        "# Encode target\n",
        "le = LabelEncoder()\n",
        "# Use the correct target column name for encoding\n",
        "df[target_column] = le.fit_transform(df[target_column])  # stockout=1, overstock=0 (assuming these are the classes)\n",
        "\n",
        "# One-hot encode categorical features 'season' and 'item_category'\n",
        "# Ensure these columns exist before one-hot encoding\n",
        "if 'season' in df.columns:\n",
        "    df = pd.get_dummies(df, columns=['season'], prefix='season', drop_first=True)\n",
        "if 'item_category' in df.columns:\n",
        "    df = pd.get_dummies(df, columns=['item_category'], prefix='item_category', drop_first=True)\n",
        "# Based on previous cells, 'supplier_reliability' might also be categorical\n",
        "if 'supplier_reliability' in df.columns:\n",
        "    df = pd.get_dummies(df, columns=['supplier_reliability'], prefix='supplier_reliability', drop_first=True)\n",
        "\n",
        "\n",
        "# Split X and y\n",
        "# Use the correct target column name\n",
        "X = df.drop(columns=[target_column])\n",
        "y = df[target_column]\n",
        "\n",
        "# 1. Remove low-variance features\n",
        "# Ensure that X has columns before applying VarianceThreshold\n",
        "if X.shape[1] > 0:\n",
        "    selector = VarianceThreshold(threshold=0.01)  # Adjust threshold as needed\n",
        "    X_var = selector.fit_transform(X)\n",
        "    selected_var_features = X.columns[selector.get_support()]\n",
        "else:\n",
        "    selected_var_features = X.columns # No features to filter\n",
        "\n",
        "# 2. Remove highly correlated features\n",
        "# Only proceed if there are features left after variance threshold\n",
        "if len(selected_var_features) > 1:\n",
        "    X_corr = X[selected_var_features].copy()\n",
        "    corr_matrix = X_corr.corr().abs()\n",
        "    upper = corr_matrix.where(np.triu(np.ones(corr_matrix.shape), k=1).astype(bool))\n",
        "    to_drop = [column for column in upper.columns if any(upper[column] > 0.9)]\n",
        "    X_uncorrelated = X_corr.drop(columns=to_drop)\n",
        "else:\n",
        "     X_uncorrelated = X[selected_var_features] # Not enough features to check correlation\n",
        "\n",
        "# 3. Feature importance (Random Forest)\n",
        "# Only fit Random Forest if there are features left\n",
        "if X_uncorrelated.shape[1] > 0:\n",
        "    rf = RandomForestClassifier(random_state=42)\n",
        "    rf.fit(X_uncorrelated, y)\n",
        "    importances = pd.Series(rf.feature_importances_, index=X_uncorrelated.columns)\n",
        "    top_features = importances.sort_values(ascending=False)\n",
        "\n",
        "    # Display top features\n",
        "    print(\"📊 Selected Features:\")\n",
        "    print(top_features)\n",
        "\n",
        "    # Optional: plot\n",
        "    plt.figure(figsize=(8, 5))\n",
        "    top_features.plot(kind='barh')\n",
        "    plt.title(\"Random Forest Feature Importance\")\n",
        "    plt.xlabel(\"Importance Score\")\n",
        "    plt.gca().invert_yaxis()\n",
        "    plt.tight_layout()\n",
        "    plt.show()\n",
        "else:\n",
        "    print(\"No features remaining after preprocessing and filtering.\")"
      ],
      "cell_type": "code",
      "metadata": {
        "colab": {
          "base_uri": "https://localhost:8080/",
          "height": 715
        },
        "id": "rJPKldm0Cz2v",
        "outputId": "0ede2da1-1919-4825-d91c-e8d3939d0cd2"
      },
      "execution_count": null,
      "outputs": [
        {
          "output_type": "stream",
          "name": "stdout",
          "text": [
            "📊 Selected Features:\n",
            "current_stock                  0.627353\n",
            "reorder_point                  0.230147\n",
            "avg_daily_demand               0.028267\n",
            "sales_last_30_days             0.027836\n",
            "stock_turnover_ratio           0.025950\n",
            "lead_time_days                 0.025869\n",
            "forecast_error                 0.024413\n",
            "season_peak                    0.003673\n",
            "supplier_reliability_low       0.003354\n",
            "item_category_non-essential    0.003139\n",
            "dtype: float64\n"
          ]
        },
        {
          "output_type": "display_data",
          "data": {
            "text/plain": [
              "<Figure size 800x500 with 1 Axes>"
            ],
            "image/png": "[encoded data removed]"
          },
          "metadata": {}
        }
      ]
    },
    {
      "cell_type": "code",
      "source": [
        "import pandas as pd\n",
        "import numpy as np\n",
        "from sklearn.model_selection import train_test_split\n",
        "from sklearn.preprocessing import StandardScaler, LabelEncoder\n",
        "from imblearn.over_sampling import SMOTE\n",
        "from tensorflow.keras import Sequential,Input\n",
        "from tensorflow.keras.layers import Dense\n",
        "from tensorflow.keras.callbacks import EarlyStopping\n",
        "import joblib\n",
        "\n",
        "# Load dataset\n",
        "df = pd.read_excel(\"stock_risk_prediction_dataset (1).xlsx\")\n",
        "\n",
        "# Fix forecast_error if negative\n",
        "df['forecast_error'] = df['forecast_error'].abs()\n",
        "\n",
        "# Ensure target column is correct\n",
        "df['stock_status'] = df['stock_status'].map({'overstock': 0, 'stockout': 1})\n",
        "\n",
        "# Top 7 features from your feature importance\n",
        "features = [\n",
        "    'current_stock', 'reorder_point', 'avg_daily_demand',\n",
        "    'sales_last_30_days', 'stock_turnover_ratio',\n",
        "    'lead_time_days', 'forecast_error'\n",
        "]\n",
        "\n",
        "X = df[features]\n",
        "y = df['stock_status']\n",
        "\n",
        "# Train-test split\n",
        "X_train, X_test, y_train, y_test = train_test_split(\n",
        "    X, y, test_size=0.2, random_state=42, stratify=y\n",
        ")\n",
        "\n",
        "# Scaling\n",
        "scaler = StandardScaler()\n",
        "X_train_scaled = scaler.fit_transform(X_train)\n",
        "X_test_scaled = scaler.transform(X_test)\n",
        "\n",
        "# Apply SMOTE after scaling\n",
        "sm = SMOTE(random_state=42)\n",
        "X_train_bal, y_train_bal = sm.fit_resample(X_train_scaled, y_train)\n",
        "\n",
        "# Build ANN\n",
        "model = Sequential([\n",
        "    Input(shape=(7,)),\n",
        "    Dense(32, input_dim=7, activation='relu'),\n",
        "    Dense(16, activation='relu'),\n",
        "    Dense(1, activation='sigmoid')\n",
        "])\n",
        "\n",
        "model.compile(optimizer='adam', loss='binary_crossentropy', metrics=['accuracy'])\n",
        "\n",
        "early_stop = EarlyStopping(monitor='val_loss', patience=5, restore_best_weights=True)\n",
        "\n",
        "model.fit(X_train_bal, y_train_bal,\n",
        "          validation_split=0.2,\n",
        "          epochs=100,\n",
        "          batch_size=32,\n",
        "          callbacks=[early_stop],\n",
        "          verbose=1)\n",
        "\n",
        "# Save as TensorFlow SavedModel (not .h5)\n",
        "model.save(\"inventory_ann_top7_model.keras\")\n",
        "joblib.dump(scaler, \"scaler_top7.pkl\")\n"
      ],
      "metadata": {
        "colab": {
          "base_uri": "https://localhost:8080/"
        },
        "id": "RsjCy73xKM7-",
        "outputId": "f6a05eb8-e1aa-4f1d-9051-e03ae19de840"
      },
      "execution_count": null,
      "outputs": [
        {
          "output_type": "stream",
          "name": "stdout",
          "text": [
            "Epoch 1/100\n",
            "\u001b[1m182/182\u001b[0m \u001b[32m━━━━━━━━━━━━━━━━━━━━\u001b[0m\u001b[37m\u001b[0m \u001b[1m1s\u001b[0m 2ms/step - accuracy: 0.7483 - loss: 0.5440 - val_accuracy: 0.9862 - val_loss: 0.1720\n",
            "Epoch 2/100\n",
            "\u001b[1m182/182\u001b[0m \u001b[32m━━━━━━━━━━━━━━━━━━━━\u001b[0m\u001b[37m\u001b[0m \u001b[1m1s\u001b[0m 3ms/step - accuracy: 0.9576 - loss: 0.1359 - val_accuracy: 0.9890 - val_loss: 0.0897\n",
            "Epoch 3/100\n",
            "\u001b[1m182/182\u001b[0m \u001b[32m━━━━━━━━━━━━━━━━━━━━\u001b[0m\u001b[37m\u001b[0m \u001b[1m1s\u001b[0m 2ms/step - accuracy: 0.9718 - loss: 0.0831 - val_accuracy: 0.9945 - val_loss: 0.0541\n",
            "Epoch 4/100\n",
            "\u001b[1m182/182\u001b[0m \u001b[32m━━━━━━━━━━━━━━━━━━━━\u001b[0m\u001b[37m\u001b[0m \u001b[1m0s\u001b[0m 2ms/step - accuracy: 0.9759 - loss: 0.0608 - val_accuracy: 0.9952 - val_loss: 0.0469\n",
            "Epoch 5/100\n",
            "\u001b[1m182/182\u001b[0m \u001b[32m━━━━━━━━━━━━━━━━━━━━\u001b[0m\u001b[37m\u001b[0m \u001b[1m0s\u001b[0m 2ms/step - accuracy: 0.9797 - loss: 0.0531 - val_accuracy: 0.9972 - val_loss: 0.0367\n",
            "Epoch 6/100\n",
            "\u001b[1m182/182\u001b[0m \u001b[32m━━━━━━━━━━━━━━━━━━━━\u001b[0m\u001b[37m\u001b[0m \u001b[1m0s\u001b[0m 2ms/step - accuracy: 0.9846 - loss: 0.0430 - val_accuracy: 0.9972 - val_loss: 0.0302\n",
            "Epoch 7/100\n",
            "\u001b[1m182/182\u001b[0m \u001b[32m━━━━━━━━━━━━━━━━━━━━\u001b[0m\u001b[37m\u001b[0m \u001b[1m0s\u001b[0m 2ms/step - accuracy: 0.9897 - loss: 0.0348 - val_accuracy: 0.9993 - val_loss: 0.0262\n",
            "Epoch 8/100\n",
            "\u001b[1m182/182\u001b[0m \u001b[32m━━━━━━━━━━━━━━━━━━━━\u001b[0m\u001b[37m\u001b[0m \u001b[1m1s\u001b[0m 2ms/step - accuracy: 0.9918 - loss: 0.0271 - val_accuracy: 0.9993 - val_loss: 0.0159\n",
            "Epoch 9/100\n",
            "\u001b[1m182/182\u001b[0m \u001b[32m━━━━━━━━━━━━━━━━━━━━\u001b[0m\u001b[37m\u001b[0m \u001b[1m1s\u001b[0m 2ms/step - accuracy: 0.9889 - loss: 0.0300 - val_accuracy: 0.9979 - val_loss: 0.0206\n",
            "Epoch 10/100\n",
            "\u001b[1m182/182\u001b[0m \u001b[32m━━━━━━━━━━━━━━━━━━━━\u001b[0m\u001b[37m\u001b[0m \u001b[1m1s\u001b[0m 2ms/step - accuracy: 0.9946 - loss: 0.0215 - val_accuracy: 0.9993 - val_loss: 0.0156\n",
            "Epoch 11/100\n",
            "\u001b[1m182/182\u001b[0m \u001b[32m━━━━━━━━━━━━━━━━━━━━\u001b[0m\u001b[37m\u001b[0m \u001b[1m0s\u001b[0m 2ms/step - accuracy: 0.9943 - loss: 0.0199 - val_accuracy: 0.9979 - val_loss: 0.0285\n",
            "Epoch 12/100\n",
            "\u001b[1m182/182\u001b[0m \u001b[32m━━━━━━━━━━━━━━━━━━━━\u001b[0m\u001b[37m\u001b[0m \u001b[1m0s\u001b[0m 3ms/step - accuracy: 0.9967 - loss: 0.0186 - val_accuracy: 0.9993 - val_loss: 0.0134\n",
            "Epoch 13/100\n",
            "\u001b[1m182/182\u001b[0m \u001b[32m━━━━━━━━━━━━━━━━━━━━\u001b[0m\u001b[37m\u001b[0m \u001b[1m0s\u001b[0m 2ms/step - accuracy: 0.9958 - loss: 0.0147 - val_accuracy: 0.9986 - val_loss: 0.0125\n",
            "Epoch 14/100\n",
            "\u001b[1m182/182\u001b[0m \u001b[32m━━━━━━━━━━━━━━━━━━━━\u001b[0m\u001b[37m\u001b[0m \u001b[1m1s\u001b[0m 2ms/step - accuracy: 0.9951 - loss: 0.0146 - val_accuracy: 1.0000 - val_loss: 0.0099\n",
            "Epoch 15/100\n",
            "\u001b[1m182/182\u001b[0m \u001b[32m━━━━━━━━━━━━━━━━━━━━\u001b[0m\u001b[37m\u001b[0m \u001b[1m0s\u001b[0m 2ms/step - accuracy: 0.9952 - loss: 0.0144 - val_accuracy: 0.9986 - val_loss: 0.0131\n",
            "Epoch 16/100\n",
            "\u001b[1m182/182\u001b[0m \u001b[32m━━━━━━━━━━━━━━━━━━━━\u001b[0m\u001b[37m\u001b[0m \u001b[1m0s\u001b[0m 2ms/step - accuracy: 0.9970 - loss: 0.0119 - val_accuracy: 1.0000 - val_loss: 0.0149\n",
            "Epoch 17/100\n",
            "\u001b[1m182/182\u001b[0m \u001b[32m━━━━━━━━━━━━━━━━━━━━\u001b[0m\u001b[37m\u001b[0m \u001b[1m0s\u001b[0m 2ms/step - accuracy: 0.9971 - loss: 0.0104 - val_accuracy: 0.9959 - val_loss: 0.0233\n",
            "Epoch 18/100\n",
            "\u001b[1m182/182\u001b[0m \u001b[32m━━━━━━━━━━━━━━━━━━━━\u001b[0m\u001b[37m\u001b[0m \u001b[1m1s\u001b[0m 2ms/step - accuracy: 0.9972 - loss: 0.0114 - val_accuracy: 1.0000 - val_loss: 0.0035\n",
            "Epoch 19/100\n",
            "\u001b[1m182/182\u001b[0m \u001b[32m━━━━━━━━━━━━━━━━━━━━\u001b[0m\u001b[37m\u001b[0m \u001b[1m1s\u001b[0m 2ms/step - accuracy: 0.9968 - loss: 0.0093 - val_accuracy: 0.9993 - val_loss: 0.0083\n",
            "Epoch 20/100\n",
            "\u001b[1m182/182\u001b[0m \u001b[32m━━━━━━━━━━━━━━━━━━━━\u001b[0m\u001b[37m\u001b[0m \u001b[1m1s\u001b[0m 2ms/step - accuracy: 0.9969 - loss: 0.0106 - val_accuracy: 0.9979 - val_loss: 0.0105\n",
            "Epoch 21/100\n",
            "\u001b[1m182/182\u001b[0m \u001b[32m━━━━━━━━━━━━━━━━━━━━\u001b[0m\u001b[37m\u001b[0m \u001b[1m0s\u001b[0m 2ms/step - accuracy: 0.9984 - loss: 0.0092 - val_accuracy: 1.0000 - val_loss: 0.0093\n",
            "Epoch 22/100\n",
            "\u001b[1m182/182\u001b[0m \u001b[32m━━━━━━━━━━━━━━━━━━━━\u001b[0m\u001b[37m\u001b[0m \u001b[1m1s\u001b[0m 2ms/step - accuracy: 0.9985 - loss: 0.0073 - val_accuracy: 0.9993 - val_loss: 0.0086\n",
            "Epoch 23/100\n",
            "\u001b[1m182/182\u001b[0m \u001b[32m━━━━━━━━━━━━━━━━━━━━\u001b[0m\u001b[37m\u001b[0m \u001b[1m0s\u001b[0m 2ms/step - accuracy: 0.9983 - loss: 0.0077 - val_accuracy: 1.0000 - val_loss: 0.0053\n"
          ]
        },
        {
          "output_type": "execute_result",
          "data": {
            "text/plain": [
              "['scaler_top7.pkl']"
            ]
          },
          "metadata": {},
          "execution_count": 19
        }
      ]
    },
    {
      "cell_type": "code",
      "source": [
        "sample = np.array([[300, 100, 15, 500, 2.0, 5, 0.1]])  # 7 values\n",
        "sample_scaled = scaler.transform(sample)\n",
        "model.predict(sample_scaled)"
      ],
      "metadata": {
        "colab": {
          "base_uri": "https://localhost:8080/"
        },
        "id": "y43gnoxKDm2a",
        "outputId": "752ea6ab-f24b-4d73-fbde-d0772b70be2a"
      },
      "execution_count": null,
      "outputs": [
        {
          "output_type": "stream",
          "name": "stdout",
          "text": [
            "\u001b[1m1/1\u001b[0m \u001b[32m━━━━━━━━━━━━━━━━━━━━\u001b[0m\u001b[37m\u001b[0m \u001b[1m0s\u001b[0m 23ms/step\n"
          ]
        },
        {
          "output_type": "execute_result",
          "data": {
            "text/plain": [
              "array([[1.4689984e-11]], dtype=float32)"
            ]
          },
          "metadata": {},
          "execution_count": 12
        }
      ]
    },
    {
      "cell_type": "code",
      "source": [],
      "metadata": {
        "id": "EKgmnOA1Lc7t"
      },
      "execution_count": null,
      "outputs": []
    }
  ]
}